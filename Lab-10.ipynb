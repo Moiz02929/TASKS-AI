{
 "cells": [
  {
   "cell_type": "code",
   "execution_count": null,
   "metadata": {},
   "outputs": [],
   "source": [
    "import pandas as pd\n",
    "import numpy as np\n",
    "from sklearn.ensemble import GradientBoostingRegressor\n",
    "from xgboost import XGBRegressor\n",
    "from sklearn.preprocessing import LabelEncoder\n",
    "from sklearn.model_selection import train_test_split\n",
    "from sklearn.metrics import mean_squared_error, r2_score\n",
    "import joblib"
   ]
  },
  {
   "cell_type": "code",
   "execution_count": null,
   "metadata": {},
   "outputs": [],
   "source": [
    "df = pd.read_csv(\"data.csv\")\n",
    "print(\"attributes \")\n",
    "print(df.columns)\n",
    "print(\"data instances\")\n",
    "print(df.count())\n",
    "print(\"null va;ues\")\n",
    "print(df.isnull().sum())"
   ]
  },
  {
   "cell_type": "code",
   "execution_count": null,
   "metadata": {},
   "outputs": [],
   "source": [
    "def fillNaObject(cols):\n",
    "    for col in cols:\n",
    "        df[col] = df[col].fillna(df[col].mode()[0])\n",
    "\n",
    "fillNaObject(['street','city','statezip','country'])\n",
    "\n",
    "def fillNaInt(cols):\n",
    "    for col in cols:\n",
    "        df[col] = df[col].fillna(df[col].mode()[0])\n",
    "\n",
    "fillNaInt(['bedrooms','bathrooms','floors','waterfront','view','yr_built'])\n",
    "\n",
    "def fillNaFloat(cols):\n",
    "    for col in cols:\n",
    "        df[col] = df[col].fillna(df[col].mean())\n",
    "\n",
    "fillNaFloat(['price','sqft_living','sqft_lot','sqft_above','sqft_basement'])"
   ]
  },
  {
   "cell_type": "code",
   "execution_count": null,
   "metadata": {},
   "outputs": [],
   "source": [
    "def convertFloattoInt(cols):\n",
    "    for col in cols:\n",
    "        df[col] = df[col].astype('int64')\n",
    "\n",
    "convertFloattoInt(['price','bedrooms', 'bathrooms','floors','waterfront','view', 'yr_built', 'sqft_living', 'sqft_lot', 'sqft_above', 'sqft_basement'])\n",
    "\n",
    "df.drop(columns=['street','country','date'], inplace=True)"
   ]
  },
  {
   "cell_type": "code",
   "execution_count": null,
   "metadata": {},
   "outputs": [],
   "source": [
    "def convertObjtoInt(cols):\n",
    "    for col in cols:\n",
    "        le = LabelEncoder()\n",
    "        df[col] = le.fit_transform(df[col])\n",
    "\n",
    "convertObjtoInt(['city','statezip'])\n",
    "\n",
    "df['price'] = df['price'].fillna(df['price'].mode()[0])"
   ]
  },
  {
   "cell_type": "code",
   "execution_count": null,
   "metadata": {},
   "outputs": [],
   "source": [
    "\n",
    "trainData, testData = train_test_split(df, test_size=0.2,shuffle=False)\n",
    "\n",
    "train_x = trainData.iloc[:, 1:]\n",
    "train_y = trainData.iloc[:, 0]\n",
    "test_x = testData.iloc[:, 1:]\n",
    "test_y = testData.iloc[:, 0]\n",
    "print(\"missing vakues train_y\",train_y.isnull().sum())\n",
    "print(\"missing values test_y \",test_y.isnull().sum())"
   ]
  },
  {
   "cell_type": "code",
   "execution_count": null,
   "metadata": {},
   "outputs": [],
   "source": [
    "print(\"using GradientBoostingRegressor\")\n",
    "model_gbr = GradientBoostingRegressor(n_estimators=100, max_depth=5, learning_rate=0.1, random_state=42)\n",
    "model_gbr.fit(train_x, train_y)\n",
    "\n",
    "joblib.dump(model_gbr, 'model_gbr.joblib')\n",
    "\n",
    "model_gbr_loaded = joblib.load('model_gbr.joblib')\n",
    "model_predictions_gbr = model_gbr_loaded.predict(test_x)\n",
    "\n",
    "testdata_predict = testData.copy(deep=True)\n",
    "testdata_predict['Prediction_GBR'] = model_predictions_gbr\n",
    "\n",
    "model_mse_gbr = mean_squared_error(test_y, model_predictions_gbr)\n",
    "model_r2_gbr = r2_score(test_y, model_predictions_gbr)\n",
    "print(\"GradientBoostingRegressor Mean Squared Error: \",round(model_mse_gbr, 3))\n",
    "print(\"GradientBoostingRegressor R2 Score: \",round(model_r2_gbr, 3))"
   ]
  },
  {
   "cell_type": "code",
   "execution_count": null,
   "metadata": {},
   "outputs": [],
   "source": [
    "print(\"using XGBoost Regressor\")\n",
    "model_xgb = XGBRegressor(n_estimators=100, max_depth=5, learning_rate=0.1, random_state=42)\n",
    "model_xgb.fit(train_x, train_y)\n",
    "\n",
    "joblib.dump(model_xgb,'model_xgb_regressor.joblib')\n",
    "\n",
    "model_xgb_loaded = joblib.load('model_xgb_regressor.joblib')\n",
    "model_predictions_xgb = model_xgb_loaded.predict(test_x)\n",
    "\n",
    "testdata_predict['Prediction_XGB'] = model_predictions_xgb\n",
    "\n",
    "model_mse_xgb = mean_squared_error(test_y, model_predictions_xgb)\n",
    "model_r2_xgb = r2_score(test_y, model_predictions_xgb)\n",
    "print(\"XGBoost Regressor mean squared error:\",round(model_mse_xgb, 3))\n",
    "print(\"XGBoost Regressor R2 score:\",round(model_r2_xgb, 3))"
   ]
  }
 ],
 "metadata": {
  "kernelspec": {
   "display_name": "base",
   "language": "python",
   "name": "python3"
  },
  "language_info": {
   "name": "python",
   "version": "3.11.4"
  }
 },
 "nbformat": 4,
 "nbformat_minor": 2
}
